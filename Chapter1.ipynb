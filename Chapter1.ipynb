{
 "cells": [
  {
   "metadata": {},
   "cell_type": "markdown",
   "source": [
    "**Problem 1.1** Let $X_1, \\dots, X_n$ be independent random variables such that $\\mathbb{E}(X_i) = 0$ and $X_i \\sim \\text{subE}(\\lambda)$. For any vector $a = (a_1, \\dots, a_n)^\\top \\in \\mathbb{R}^n$, define the weighted sum\n",
    "$$\n",
    "S(a) = \\sum_{i=1}^n a_i X_i.\n",
    "$$\n",
    "Show that for any $t > 0$ we have\n",
    "$$\n",
    "\\mathbb{P}(|S(a)| > t) \\le 2 \\exp \\left[ -C \\left( \\frac{t^2}{\\lambda^2 |a|_2^2} \\wedge \\frac{t}{\\lambda |a|_\\infty} \\right) \\right],\n",
    "$$\n",
    "for some positive constant $C$."
   ],
   "id": "ee529b95f90c256"
  },
  {
   "metadata": {},
   "cell_type": "markdown",
   "source": [
    "**Proof 1.1**\n",
    "### Step 1: MGF of Each Scaled Term\n",
    "By the definition of a sub-exponential random variable $X_i$:\n",
    "$$\\mathbb{E}[e^{sX_i}] \\le \\exp\\left(\\frac{s^2\\lambda^2}{2}\\right) \\quad \\text{for all } |s| \\le \\frac{1}{\\lambda}$$\n",
    "For each scaled term $a_i X_i$:\n",
    "$$\\mathbb{E}[e^{s(a_iX_i)}] \\le \\exp\\left(\\frac{s^2 a_i^2 \\lambda^2}{2}\\right), \\quad \\text{whenever } |s| \\le \\frac{1}{\\lambda|a_i|}$$\n",
    "***\n",
    "### Step 2: MGF for the Weighted Sum\n",
    "By independence, the MGF of the sum $S(a) = \\sum a_i X_i$ is the product of the individual MGFs:\n",
    "$$\\mathbb{E}[e^{sS(a)}] = \\prod_{i=1}^n \\mathbb{E}[e^{sa_i X_i}] \\le \\exp\\left(\\frac{s^2 \\lambda^2 \\|a\\|_2^2}{2}\\right)$$\n",
    "This bound is valid for $|s| \\le \\frac{1}{\\lambda \\|a\\|_\\infty}$. For simplicity, let $v^2 := \\lambda^2 \\|a\\|_2^2$ and $b := \\lambda \\|a\\|_\\infty$. The bound becomes:\n",
    "$$\\mathbb{E}[e^{sS(a)}] \\le \\exp\\left(\\frac{s^2 v^2}{2}\\right) \\quad \\text{for } |s| \\le \\frac{1}{b}$$\n",
    "***\n",
    "### Step 3: Apply the Chernoff Bound\n",
    "Applying Markov's inequality for any $s \\in (0, 1/b]$ gives the Chernoff bound:\n",
    "$$\\mathbb{P}(S(a) \\ge t) \\le e^{-st}\\mathbb{E}[e^{sS(a)}] \\le \\exp\\left(-st + \\frac{s^2 v^2}{2}\\right)$$\n",
    "Minimizing this bound by choosing the best $s$ yields two regimes:\n",
    "* **Quadratic regime** ($t \\le v^2/b$): Choose $s^* = t/v^2$.\n",
    "    $$\\mathbb{P}(S(a) \\ge t) \\le \\exp\\left(-\\frac{t^2}{2v^2}\\right)$$\n",
    "* **Linear regime** ($t > v^2/b$): Choose $s^* = 1/b$.\n",
    "    $$\\mathbb{P}(S(a) \\ge t) \\le \\exp\\left(-\\frac{t}{2b}\\right)$$\n",
    "Combining these cases gives a single expression for the tail bound:\n",
    "$$\\mathbb{P}(S(a) \\ge t) \\le \\exp\\left[-\\frac{1}{2}\\left(\\frac{t^2}{v^2} \\wedge \\frac{t}{b}\\right)\\right]$$\n",
    "***\n",
    "### Step 4: Combine Tails for the Final Result\n",
    "Using the union bound to control both tails ($\\mathbb{P}(|S(a)| > t) \\le \\mathbb{P}(S(a) > t) + \\mathbb{P}(-S(a) > t)$) gives:\n",
    "$$\\mathbb{P}(|S(a)| > t) \\le 2 \\exp\\left[-\\frac{1}{2}\\left(\\frac{t^2}{v^2} \\wedge \\frac{t}{b}\\right)\\right]$$\n",
    "Finally, substituting back the definitions for $v^2$ and $b$ gives the result with $C=1/2$:\n",
    "$$\\mathbb{P}(|S(a)| > t) \\le 2 \\exp\\left[-\\frac{1}{2}\\left(\\frac{t^2}{\\lambda^2 \\|a\\|_2^2} \\wedge \\frac{t}{\\lambda \\|a\\|_\\infty}\\right)\\right] \\quad \\square$$"
   ],
   "id": "4249df43f473028b"
  }
 ],
 "metadata": {
  "kernelspec": {
   "display_name": "Python 3",
   "language": "python",
   "name": "python3"
  },
  "language_info": {
   "codemirror_mode": {
    "name": "ipython",
    "version": 2
   },
   "file_extension": ".py",
   "mimetype": "text/x-python",
   "name": "python",
   "nbconvert_exporter": "python",
   "pygments_lexer": "ipython2",
   "version": "2.7.6"
  }
 },
 "nbformat": 4,
 "nbformat_minor": 5
}
